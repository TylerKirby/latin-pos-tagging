{
 "cells": [
  {
   "cell_type": "code",
   "execution_count": 2,
   "metadata": {},
   "outputs": [
    {
     "name": "stdout",
     "output_type": "stream",
     "text": [
      "caes-gal_reformat.txt\n",
      "cic-att_reformat.txt\n",
      "cic-off_reformat.txt\n",
      "latin-nt_reformat.txt\n",
      "pal-agr_reformat.txt\n",
      "per-aeth_reformat.txt\n"
     ]
    }
   ],
   "source": [
    "import glob\n",
    "\n",
    "def read_file(filename):\n",
    "    infile = open(filename)\n",
    "    contents = infile.read()\n",
    "    infile.close()\n",
    "    return contents\n",
    "\n",
    "def reformat(text):\n",
    "    \n",
    "    split_sentences = text.split('\\n')\n",
    "    split_sentences_list = []\n",
    "    \n",
    "    for sentence in split_sentences:\n",
    "        sentence_list = []\n",
    "        sentence_list.append(sentence)\n",
    "        split_sentences_list.append(sentence_list)\n",
    "    \n",
    "    pairs_list = []\n",
    "    \n",
    "    for sentence in split_sentences_list:\n",
    "        broken_sentence = sentence[0].split()\n",
    "        new_sentence_list = []\n",
    "        for word in broken_sentence:\n",
    "            if '/' in word and word != '/':\n",
    "                split_word = word.split('/')\n",
    "                word_pair = (split_word[0], split_word[1])\n",
    "                new_sentence_list.append(word_pair)\n",
    "            else:\n",
    "                print(word)\n",
    "                continue\n",
    "        pairs_list.append(new_sentence_list)\n",
    "    \n",
    "    return pairs_list\n",
    "\n",
    "paths = glob.glob('/Users/Elena/Documents/HDW-2019/pos-tagging/proiel-txt/*.txt')\n",
    "for p in paths:\n",
    "    shortened = p.split('proiel-txt/')[-1]\n",
    "    file_name = shortened[:-4] + '_reformat.txt'\n",
    "    print(file_name)\n",
    "    f = open('/Users/Elena/Documents/HDW-2019/pos-tagging/proiel-reformat'+ '/' + file_name, 'w', encoding = 'utf-8')\n",
    "    reformatted = reformat(read_file(p))\n",
    "    f.write(str(reformatted))\n",
    "    f.close\n",
    "    "
   ]
  },
  {
   "cell_type": "code",
   "execution_count": null,
   "metadata": {},
   "outputs": [],
   "source": []
  },
  {
   "cell_type": "code",
   "execution_count": null,
   "metadata": {},
   "outputs": [],
   "source": []
  }
 ],
 "metadata": {
  "kernelspec": {
   "display_name": "Python 3",
   "language": "python",
   "name": "python3"
  },
  "language_info": {
   "codemirror_mode": {
    "name": "ipython",
    "version": 3
   },
   "file_extension": ".py",
   "mimetype": "text/x-python",
   "name": "python",
   "nbconvert_exporter": "python",
   "pygments_lexer": "ipython3",
   "version": "3.7.3"
  }
 },
 "nbformat": 4,
 "nbformat_minor": 2
}
