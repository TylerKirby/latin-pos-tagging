{
 "cells": [
  {
   "cell_type": "code",
   "execution_count": 1,
   "metadata": {},
   "outputs": [],
   "source": [
    "import glob"
   ]
  },
  {
   "cell_type": "code",
   "execution_count": 82,
   "metadata": {},
   "outputs": [
    {
     "name": "stdout",
     "output_type": "stream",
     "text": [
      "12\n"
     ]
    }
   ],
   "source": [
    "# sample https://github.com/TylerKirby/latin-pos-tagging/blob/master/texts/perseus/phi0448.phi001.perseus-lat1.tb.txt\n",
    "paths = glob.glob('./texts/perseus/*.txt')\n",
    "print(len(paths))\n",
    "word_list = []\n",
    "for p in paths:\n",
    "    #sample_text_path = \"./texts/perseus/phi0448.phi001.perseus-lat1.tb.txt\"\n",
    "    file = open(p)\n",
    "    text = file.read()\n",
    "    text.replace('?', '.')\n",
    "    text.replace('!', '.')\n",
    "    text.strip('\\n')\n",
    "    sentence_list = text.split('.')\n",
    "    strip = {'',',',';'}\n",
    "    for sent in sentence_list:\n",
    "        words = sent.split(' ')\n",
    "        tuple_list = []\n",
    "        for word in words:\n",
    "            word_tag_pair = word.split('/')\n",
    "            if (len(word_tag_pair) == 2) and (word_tag_pair[0] not in strip):\n",
    "                tuple_list.append( (word_tag_pair[0], word_tag_pair[1]) )\n",
    "        if len(tuple_list) > 0:\n",
    "            word_list.append(tuple_list)"
   ]
  },
  {
   "cell_type": "code",
   "execution_count": 83,
   "metadata": {},
   "outputs": [
    {
     "name": "stdout",
     "output_type": "stream",
     "text": [
      "3434\n"
     ]
    }
   ],
   "source": [
    "print(len(word_list))"
   ]
  },
  {
   "cell_type": "code",
   "execution_count": 66,
   "metadata": {},
   "outputs": [
    {
     "name": "stdout",
     "output_type": "stream",
     "text": [
      "[[('Cum', 'c--------'), ('esset', 'v3sisa---'), ('Caesar', 'n-s---mn-'), ('in', 'r--------'), ('citeriore', 'a-s---fbc'), ('Gallia', 'n-s---fb-'), ('in', 'r--------'), ('hibernis', 'a-p---nb-'), ('ita', 'd--------'), ('uti', 'c--------'), ('supra', 'd--------'), ('demonstravimus', 'v1pria---'), ('crebri', 'a-p---mn-'), ('ad', 'r--------'), ('eum', 'p-s---ma-'), ('rumores', 'n-p---mn-'), ('adferebantur', 'v3piip---'), ('litteris', 'n-p---fb-'), ('-que', 'c--------'), ('item', 'd--------'), ('Labieni', 'n-s---mg-'), ('certior', 'a-s---mnc'), ('fiebat', 'v3siia---'), ('omnes', 'a-p---ma-'), ('Belgas', 'n-p---ma-'), ('quam', 'p-s---fa-'), ('tertiam', 'm-s---fa-'), ('esse', 'v--pna---'), ('Galliae', 'n-s---fg-'), ('partem', 'n-s---fa-'), ('dixeramus', 'v1plia---'), ('contra', 'r--------'), ('populum', 'n-s---ma-'), ('Romanum', 'a-s---ma_'), ('coniurare', 'v--pna---'), ('obsides', 'n-p---ma-'), ('-que', 'c--------'), ('inter', 'r--------'), ('se', 'p-p---ma-'), ('dare', 'v--pna---')], [('\\nConiurandi', 'v___d_-g-'), ('has', 'p-p---fa-'), ('esse', 'v--pna---'), ('causas', 'n-p---fa-'), ('primum', 'd-------_'), ('quod', 'c--------'), ('vererentur', 'v3pisd---'), ('ne', 'c--------'), ('omni', 'a-s---fb-'), ('pacata', 'v-srppfb-'), ('Gallia', 'n-s---fb-'), ('ad', 'r--------'), ('eos', 'p-p---ma-'), ('exercitus', 'n-s---mn-'), ('noster', 'p-s---mn-'), ('adduceretur', 'v3sisp---'), ('\\ndeinde', 'd--------'), ('quod', 'c--------'), ('ab', 'r--------'), ('non', 'd--------'), ('nullis', 'a-p---mb-'), ('Gallis', 'n-p---mb-'), ('sollicitarentur', 'v3pisp---'), ('partim', 'd--------'), ('qui', 'p-p---mn-'), ('ut', 'c--------'), ('Germanos', 'n-p---ma-'), ('diutius', 'd-------c'), ('in', 'r--------'), ('Gallia', 'n-s---fb-'), ('versari', 'v--pnp---'), ('noluerant', 'v3plia---'), ('ita', 'd--------'), ('populi', 'n-s---mg-'), ('Romani', 'a-s---mg-'), ('exercitum', 'n-s---ma-'), ('hiemare', 'v--pna---'), ('atque', 'c--------'), ('inveterascere', 'v--pna---'), ('in', 'r--------'), ('Gallia', 'n-s---fb-'), ('moleste', 'd--------'), ('ferebant', 'v3piia---'), ('partim', 'd--------'), ('qui', 'p-p---mn-'), ('mobilitate', 'n-s---fb-'), ('et', 'c--------'), ('levitate', 'n-s---fb-'), ('animi', 'n-s---mg-'), ('novis', 'a-p---nd-'), ('imperiis', 'n-p---nd-'), ('studebant', 'v3piia---'), ('\\nab', 'r--------'), ('non', 'd--------'), ('nullis', 'a-p---mb-'), ('etiam', 'd--------'), ('quod', 'c--------'), ('in', 'r--------'), ('Gallia', 'n-s---fb-'), ('a', 'r--------'), ('potentioribus', 'v-pppambc'), ('atque', 'c--------'), ('iis', 'p-p---mb-'), ('qui', 'p-p---mn-'), ('ad', 'r--------'), ('conducendos', 'v-p-g-ma-'), ('homines', 'n-p---ma-'), ('facultates', 'n-p---fa-'), ('habebant', 'v3piia---'), ('vulgo', 'd-------_'), ('regna', 'n-p---nn-'), ('occupabantur', 'v3piip---'), ('sollicitarentur', 'v3pisp---'), ('\\nqui', 'p-p---mn-'), ('minus', 'd-------c'), ('facile', 'd--------'), ('eam', 'p-s---fa-'), ('rem', 'n-s---fa-'), ('imperio', 'n-s---nb-'), ('nostro', 'p-s---nb-'), ('consequi', 'v--pnd---'), ('poterant', 'v3piia---')], [('\\nHis', 'p-p---nb-'), ('nuntiis', 'a-p---nb-'), ('litteris', 'n-p---fb-'), ('-que', 'c--------'), ('commotus', 'v-srppmn-'), ('Caesar', 'n-s---mn-'), ('duas', 'm-p---fa-'), ('legiones', 'n-p---fa-'), ('in', 'r--------'), ('citeriore', 'a-s---fbc'), ('Gallia', 'n-s---fb-'), ('novas', 'a-p---fa-'), ('conscripsit', 'v3sria---'), ('et', 'c--------'), ('inita', 'v-srppfb-'), ('aestate', 'n-s---fb-'), ('in', 'r--------'), ('ulteriorem', 'a-s---fac'), ('Galliam', 'n-s---fa-'), ('qui', 'p-s---mn-'), ('deduceret', 'v3sisa---'), ('Q', 'n-s---ma-'), ('Pedium', 'n-s---ma-'), ('legatum', 'n-s---ma-'), ('misit', 'v3sria---')], [('\\nIpse', 'p-s---mn-'), ('cum', 'c--------'), ('primum', 'd--------'), ('pabuli', 'n-s---ng-'), ('copia', 'n-s---fn-'), ('esse', 'v--pna---'), ('inciperet', 'v3sisa---'), ('ad', 'r--------'), ('exercitum', 'n-s---ma-'), ('venit', 'v3sria---')], [('\\nDat', 'v3spia---'), ('negotium', 'n-s---na-'), ('Senonibus', 'n-p---md-'), ('reliquis', 'a-p---md-'), ('-que', 'c--------'), ('Gallis', 'n-p---md-'), ('qui', 'p-s---mn-'), ('finitimi', 'a-p---mn-'), ('Belgis', 'n-p---md-'), ('erant', 'v3piia---'), ('uti', 'c--------'), ('ea', 'p-p---na-'), ('quae', 'p-p---nn-'), ('apud', 'r--------'), ('eos', 'p-p---ma-'), ('gerantur', 'v3ppsp---'), ('cognoscant', 'v3ppsa---'), ('se', 'p-s---ma-'), ('-que', 'c--------'), ('de', 'r--------'), ('his', 'p-p---fb-'), ('rebus', 'n-p---fb-'), ('certiorem', 'a-s---mac'), ('faciant', 'v3ppsa---')], [('\\nHi', 'p-p---mn-'), ('constanter', 'd-------_'), ('omnes', 'a-p---mn-'), ('nuntiaverunt', 'v3pria---'), ('manus', 'n-p---fa-'), ('cogi', 'v--pnp---'), ('exercitum', 'n-s---ma-'), ('in', 'r--------'), ('unum', 'm-s---ma-'), ('locum', 'n-s---ma-'), ('conduci', 'v--pnp---')], [('\\nTum', 'd--------'), ('vero', 'd--------'), ('dubitandum', 'v-spgpna-'), ('non', 'd--------'), ('existimavit', 'v3sria---'), ('quin', 'c--------'), ('ad', 'r--------'), ('eos', 'p-p---ma-'), ('proficisceretur', 'v3sisp---')], [('esse', 'v--pna---'), ('\\nRe', 'n-s---fb-'), ('frumentaria', 'a-s---fb-'), ('provisa', 'v-srppfb-'), ('castra', 'n-p---na-'), ('movet', 'v3spia---'), ('diebus', 'n-p---mb-'), ('-que', 'c--------'), ('circiter', 'd--------'), ('XV', 'm-_---__-'), ('ad', 'r--------'), ('fines', 'n-p---fa-'), ('Belgarum', 'n-p---mg-'), ('pervenit', 'v3spia---')], [('\\nEo', 'd--------'), ('cum', 'c--------'), ('de', 'r--------'), ('improviso', 'a-s---nb-'), ('celerius', 'd-------c'), ('-que', 'c--------'), ('omnium', 'a-p---mg-'), ('opinione', 'n-s---fb-'), ('venisset', 'v3slsa---'), ('Remi', 'n-p---mn-'), ('qui', 'p-p---mn-'), ('proximi', 'a-p---mns'), ('Galliae', 'n-s---fd-'), ('ex', 'r--------'), ('Belgis', 'n-p---mb-'), ('sunt', 'v3ppia---'), ('ad', 'r--------'), ('eum', 'p-s---ma-'), ('legatos', 'n-p---ma-'), ('Iccium', 'n-s---ma-'), ('et', 'c--------'), ('Andebrogium', 'n-s---ma-'), ('primos', 'm-p---ma-'), ('civitatis', 'n-s---fg-'), ('miserunt', 'v3pria---'), ('qui', 'p-p---mn-'), ('dicerent', 'v3pisa---'), ('se', 'p-p---ma-'), ('sua', 'p-p---na-'), ('-que', 'c--------'), ('omnia', 'a-p---na-'), ('in', 'r--------'), ('fidem', 'n-s---fa-'), ('atque', 'c--------'), ('potestatem', 'n-s---fa-'), ('populi', 'n-s---mg-'), ('Romani', 'a-s---mg-'), ('permittere', 'v--pna---'), ('neque', 'c--------'), ('se', 'p-p---ma-'), ('cum', 'r--------'), ('reliquis', 'a-p---mb-'), ('Belgis', 'n-p---mb-'), ('consensisse', 'v--rna---'), ('neque', 'c--------'), ('contra', 'r--------'), ('populum', 'n-s---ma-'), ('Romanum', 'a-s---ma-'), ('coniurasse', 'v--rna---'), ('paratos', 'v-prppma-'), ('-que', 'c--------'), ('esse', 'v--pna---'), ('et', 'c--------'), ('obsides', 'n-p---ma-'), ('dare', 'v--pna---'), ('et', 'c--------'), ('imperata', 'v-prppna-'), ('facere', 'v--pna---'), ('et', 'c--------'), ('oppidis', 'n-p---nb-'), ('recipere', 'v--pna---'), ('et', 'c--------'), ('frumento', 'n-s---nb-'), ('ceteris', 'a-p---fb-'), ('-que', 'c--------'), ('rebus', 'n-p---fb-'), ('iuvare', 'v--pna---'), ('\\nreliquos', 'a-p---ma-'), ('omnes', 'a-p---ma-'), ('Belgas', 'n-p---ma-'), ('in', 'r--------'), ('armis', 'n-p---nb-'), ('esse', 'v--pna---'), ('Germanos', 'n-p---ma-'), ('-que', 'c--------'), ('qui', 'p-p---mn-'), ('cis', 'r--------'), ('Rhenum', 'n-s---ma-'), ('incolant', 'v3ppsa---'), ('sese', 'p-p---ma-'), ('cum', 'r--------'), ('his', 'p-p---mb-'), ('coniunxisse', 'v--rna---'), ('tantum', 'a-s---ma-'), ('-que', 'c--------'), ('esse', 'v--pna---'), ('eorum', 'p-p---mg-'), ('omnium', 'a-p---mg-'), ('furorem', 'n-s---ma-'), ('ut', 'c--------'), ('ne', 'c--------'), ('Suessiones', 'n-p---ma-'), ('quidem', 'd--------'), ('fratres', 'n-p---ma-'), ('consanguineos', 'a-p---ma-'), ('-que', 'c--------'), ('suos', 'p-p---ma-'), ('qui', 'p-p---mn-'), ('eodem', 'p-s---nb-'), ('iure', 'n-s---nb-'), ('et', 'c--------'), ('isdem', 'p-p---fb-'), ('legibus', 'n-p---fb-'), ('utantur', 'v3ppsp---'), ('unum', 'm-s---na-'), ('imperium', 'n-s---na-'), ('unum', 'm-s---ma-'), ('-que', 'c--------'), ('magistratum', 'n-s---ma-'), ('cum', 'r--------'), ('ipsis', 'p-p---mb-'), ('habeant', 'v3ppsa---'), ('deterrere', 'v--pna---'), ('potuerint', 'v3prsa---'), ('quin', 'c--------'), ('cum', 'r--------'), ('iis', 'p-p---mb-'), ('consentirent', 'v3pisa---')], [('\\nCaesar', 'n-s---mn-'), ('Remos', 'n-p---ma-'), ('cohortatus', 'v-srpdmn_'), ('liberaliter', 'd--------'), ('-que', 'c--------'), ('oratione', 'n-s---fb-'), ('prosecutus', 'v-srpdmn_'), ('omnem', 'a-s---ma-'), ('senatum', 'n-s---ma-'), ('ad', 'r--------'), ('se', 'p-s---ma-'), ('convenire', 'v--pna---'), ('principum', 'a-p---mg_'), ('-que', 'c--------'), ('liberos', 'n-p---ma-'), ('obsides', 'n-p---ma-'), ('ad', 'r--------'), ('se', 'p-s---ma-'), ('adduci', 'v--pnp---'), ('iussit', 'v3sria---')], [('\\nQuae', 'p-p---nn-'), ('omnia', 'a-p---nn-'), ('ab', 'r--------'), ('his', 'p-p---mb-'), ('diligenter', 'd--------'), ('ad', 'r--------'), ('diem', 'n-s---ma-'), ('facta', 'v-prppnn-'), ('sunt', 'v3ppia---')], [('\\nIpse', 'p-s---mn-'), ('Diviciacum', 'n-s---ma-'), ('Haeduum', 'a-s---ma_'), ('magnopere', 'd--------'), ('cohortatus', 'v-srpdmn_'), ('docet', 'v3spia---'), ('quantopere', 'd--------'), ('rei', 'n-s---fg-'), ('publicae', 'a-s---fg-'), ('communis', 'a-s---fg-'), ('-que', 'c--------'), ('salutis', 'n-s---fg-'), ('intersit', 'v3spsa---'), ('manus', 'n-p---fa-'), ('hostium', 'n-p---mg-'), ('distineri', 'v--pnp---'), ('ne', 'c--------'), ('cum', 'r--------'), ('tanta', 'a-s---fb-'), ('multitudine', 'n-s---fb-'), ('uno', 'm-s---nb-'), ('tempore', 'n-s---nb-'), ('confligendum', 'v-s-g-nn-'), ('sit', 'v3spsa---')], [('\\nId', 'p-s---na-'), ('fieri', 'v--pnp---'), ('posse', 'v--pna---'), ('si', 'c--------'), ('suas', 'p-p---fa-'), ('copias', 'n-p---fa-'), ('Haedui', 'n-p---mn-'), ('in', 'r--------'), ('fines', 'n-p---ma-'), ('Bellovacorum', 'n-p---mg-'), ('introduxerint', 'v3prsa---'), ('et', 'c--------'), ('eorum', 'p-p---mg-'), ('agros', 'n-p---ma-'), ('populari', 'v--pnd---'), ('coeperint', 'v3prsa---')], [('\\nHis', 'p-p---nb-'), ('datis', 'v-prppnb-'), ('mandatis', 'v-prppnb-'), ('eum', 'p-s---ma-'), ('a', 'r--------'), ('se', 'p-s---mb-'), ('dimittit', 'v3spia---')], [('\\nPostquam', 'c--------'), ('omnes', 'a-p---fa-'), ('Belgarum', 'n-p---mg-'), ('copias', 'n-p---fa-'), ('in', 'r--------'), ('unum', 'm-s---ma-'), ('locum', 'n-s---ma-'), ('coactas', 'v-prppfa-'), ('ad', 'r--------'), ('se', 'p-s---ma-'), ('venire', 'v--pna---'), ('vidit', 'v3sria---'), ('neque', 'c--------'), ('iam', 'd--------'), ('longe', 'd--------'), ('abesse', 'v--pna---'), ('ab', 'r--------'), ('iis', 'p-p---mb-'), ('quos', 'p-p---ma-'), ('miserat', 'v3slia---'), ('exploratoribus', 'n-p---mb-'), ('et', 'c--------'), ('ab', 'r--------'), ('Remis', 'n-p---mb-'), ('cognovit', 'v3sria---'), ('flumen', 'n-s---na-'), ('Axonam', 'n-s---ma-'), ('quod', 'p-s---nn-'), ('est', 'v3spia---'), ('in', 'r--------'), ('extremis', 'a-p---mbs'), ('Remorum', 'n-p---mg-'), ('finibus', 'n-p---mb-'), ('exercitum', 'n-s---ma-'), ('traducere', 'v--pna---'), ('maturavit', 'v3sria---'), ('atque', 'c--------'), ('ibi', 'd--------'), ('castra', 'n-p---na-'), ('posuit', 'v3sria---')], [('\\nQuae', 'p-s---fn-'), ('res', 'n-s---fn-'), ('et', 'c--------'), ('latus', 'n-s---na-'), ('unum', 'm-s---na-'), ('castrorum', 'n-p---ng-'), ('ripis', 'n-p---fb-'), ('fluminis', 'n-s---ng-'), ('muniebat', 'v3siia---'), ('et', 'c--------'), ('post', 'r--------'), ('eum', 'p-s---ma-'), ('quae', 'p-p---nn-'), ('erant', 'v3piia---'), ('tuta', 'v-prpdna_'), ('ab', 'r--------'), ('hostibus', 'n-p---mb-'), ('reddebat', 'v3siia---'), ('et', 'c--------'), ('commeatus', 'n-p---ma-'), ('ab', 'r--------'), ('Remis', 'n-p---mb-'), ('reliquis', 'a-p---fb-'), ('-que', 'c--------'), ('civitatibus', 'n-p---fb-'), ('ut', 'c--------'), ('sine', 'r--------'), ('periculo', 'n-s---nb-'), ('ad', 'r--------'), ('eum', 'p-s---ma-'), ('portari', 'v--pnp---'), ('possent', 'v3pisa---'), ('efficiebat', 'v3siia---')], [('\\nIn', 'r--------'), ('eo', 'p-s---nb-'), ('flumine', 'n-s---nb-'), ('pons', 'n-s---mn-'), ('erat', 'v3siia---')], [('\\nIbi', 'd--------'), ('praesidium', 'n-s---na-'), ('ponit', 'v3spia---'), ('et', 'c--------'), ('in', 'r--------'), ('altera', 'a-s---fb-'), ('parte', 'n-s---fb-'), ('fluminis', 'n-s---ng-'), ('Q', 'n-s---ma-'), ('Titurium', 'n-s---ma-'), ('Sabinum', 'n-s---ma-'), ('legatum', 'n-s---ma-'), ('cum', 'r--------'), ('sex', 'm--------'), ('cohortibus', 'n-p---fb-'), ('relinquit', 'v3spia---'), ('\\ncastra', 'n-p---na-'), ('in', 'r--------'), ('altitudinem', 'n-s---fa-'), ('pedum', 'n-p---mg-'), ('XII', 'm-_---__-'), ('vallo', 'n-s---nb-'), ('fossa', 'n-s---fb-'), ('-que', 'c--------'), ('duodeviginti', 'm--------'), ('pedum', 'n-p---mg-'), ('muniri', 'v--pnp---'), ('iubet', 'v3spia---')], [('\\nEo', 'd--------'), ('de', 'r--------'), ('media', 'a-s---fb-'), ('nocte', 'n-s---fb-'), ('Caesar', 'n-s---mn-'), ('isdem', 'p-p---mb-'), ('ducibus', 'n-p---mb-'), ('usus', 'v-srpdmn_'), ('qui', 'p-p---mn-'), ('nuntii', 'n-p---mn-'), ('ab', 'r--------'), ('Iccio', 'n-s---mb-'), ('venerant', 'v3plia---'), ('Numidas', 'n-p---ma-'), ('et', 'c--------'), ('Cretas', 'n-p---ma-'), ('sagittarios', 'n-p---ma-'), ('et', 'c--------'), ('funditores', 'n-p---ma-'), ('Baleares', 'a-p---ma_'), ('subsidio', 'n-s---nd-'), ('oppidanis', 'n-p---md-'), ('mittit', 'v3spia---'), ('\\nquorum', 'p-p---mg-'), ('adventu', 'n-s---mb-'), ('et', 'c--------'), ('Remis', 'n-p---md-'), ('cum', 'r--------'), ('spe', 'n-s---fb-'), ('defensionis', 'n-s---fg-'), ('studium', 'n-s---nn-'), ('propugnandi', 'v___d_-g-'), ('accessit', 'v3sria---'), ('et', 'c--------'), ('hostibus', 'n-p---mb-'), ('eadem', 'p-s---fb-'), ('de', 'r--------'), ('causa', 'n-s---fb-'), ('spes', 'n-s---fn-'), ('potiundi', 'v-s-g-ng-'), ('oppidi', 'n-s---ng-'), ('discessit', 'v3sria---')], [('\\nItaque', 'c--------'), ('paulisper', 'd--------'), ('apud', 'r--------'), ('oppidum', 'n-s---na-'), ('morati', 'v-prpdmn_'), ('agros', 'n-p---ma-'), ('-que', 'c--------'), ('Remorum', 'n-p---mg-'), ('depopulati', 'v-prpdmn_'), ('omnibus', 'a-p---mb-'), ('vicis', 'n-p---mb-'), ('aedificiis', 'n-p---nb-'), ('-que', 'c--------'), ('quo', 'd--------'), ('adire', 'v--pna---'), ('potuerant', 'v3plia---'), ('incensis', 'v-prppnb-'), ('ad', 'r--------'), ('castra', 'n-p---na-'), ('Caesaris', 'n-s---mg-'), ('omnibus', 'a-p---fb-'), ('copiis', 'n-p---fb-'), ('contenderunt', 'v3pria---'), ('et', 'c--------'), ('a', 'r--------'), ('milibus', 'm-p---nb-'), ('passuum', 'n-p---mg-'), ('minus', 'd-------c'), ('duobus', 'm-p---nb-'), ('castra', 'n-p---na-'), ('posuerunt', 'v3pria---'), ('\\nquae', 'p-p---nn-'), ('castra', 'n-p---nn-'), ('ut', 'c--------'), ('fumo', 'n-s---mb-'), ('atque', 'c--------'), ('ignibus', 'n-p---mb-'), ('significabatur', 'v3siip---'), ('amplius', 'd-------c'), ('milibus', 'm-p---nb-'), ('passuum', 'n-p---mg-'), ('VIII', 'm-_---__-'), ('latitudinem', 'n-s---fa-'), ('patebant', 'v3piia---')], [('\\nPalus', 'n-s---fn-'), ('erat', 'v3siia---'), ('non', 'd--------'), ('magna', 'a-s---fn-'), ('inter', 'r--------'), ('nostrum', 'p-s---ma-'), ('atque', 'c--------'), ('hostium', 'n-p---mg-'), ('exercitum', 'n-s---ma-')], [('\\nHanc', 'p-s---fa-'), ('si', 'c--------'), ('nostri', 'p-p---mn-'), ('transirent', 'v3pisa---'), ('hostes', 'n-p---mn-'), ('expectabant', 'v3piia---'), ('\\nnostri', 'p-p---mn-'), ('autem', 'c--------'), ('si', 'c--------'), ('ab', 'r--------'), ('illis', 'p-p---mb-'), ('initium', 'n-s---nn-'), ('transeundi', 'v___d_-g-'), ('fieret', 'v3s-sa---'), ('ut', 'c--------'), ('impeditos', 'v-prppma-'), ('adgrederentur', 'v3pisd---'), ('parati', 'v-prppmn-'), ('in', 'r--------'), ('armis', 'n-p---nb-'), ('erant', 'v3piia---')], [('\\nInterim', 'd--------'), ('proelio', 'n-s---nb-'), ('equestri', 'a-s---nb-'), ('inter', 'r--------'), ('duas', 'm-p---fa-'), ('acies', 'n-p---fa-'), ('contendebatur', 'v3siip---')], [('\\nUbi', 'd--------'), ('neutri', 'a-p---mn-'), ('transeundi', 'v___d_-g-'), ('initium', 'n-s---na-'), ('faciunt', 'v3ppia---'), ('secundiore', 'a-s---nbc'), ('equitum', 'n-p---mg-'), ('proelio', 'n-s---nb-'), ('nostris', 'p-p---md-'), ('Caesar', 'n-s---mn-'), ('suos', 'p-p---ma-'), ('in', 'r--------'), ('castra', 'n-p---na-'), ('reduxit', 'v3sria---')], [('\\nHostes', 'n-p---mn-'), ('protinus', 'd--------'), ('ex', 'r--------'), ('eo', 'p-s---mb-'), ('loco', 'n-s---mb-'), ('ad', 'r--------'), ('flumen', 'n-s---na-'), ('Axonam', 'n-s---ma-'), ('contenderunt', 'v3pria---'), ('quod', 'p-s---nn-'), ('esse', 'v--pna---'), ('post', 'r--------'), ('nostra', 'p-p---na-'), ('castra', 'n-p---na-'), ('demonstratum', 'v-srppnn-'), ('est', 'v3spia---')], [('\\nIbi', 'd--------'), ('vadis', 'n-p---nb-'), ('repertis', 'v-prppnb-'), ('partem', 'n-s---fa-'), ('suarum', 'p-p---fg-'), ('copiarum', 'n-p---fg-'), ('traducere', 'v--pna---'), ('conati', 'v-prpdmn_'), ('sunt', 'v3ppia---'), ('eo', 'p-s---nb-'), ('consilio', 'n-s---nb-'), ('ut', 'c--------'), ('si', 'c--------'), ('possent', 'v3pisa---'), ('castellum', 'n-s---na-'), ('cui', 'p-s---nd-'), ('praeerat', 'v3siia---'), ('Q', 'n-s---mn-')], [('Titurius', 'n-s---mn-'), ('legatus', 'n-s---mn-'), ('expugnarent', 'v3pisa---'), ('pontem', 'n-s---ma-'), ('-que', 'c--------'), ('interscinderent', 'v3pisa---'), ('si', 'c--------'), ('minus', 'd-------c'), ('potuissent', 'v3plsa---'), ('agros', 'n-p---ma-'), ('Remorum', 'n-p---mg-'), ('popularentur', 'v3pisd---'), ('qui', 'p-p---mn-'), ('magno', 'a-s---md-'), ('nobis', 'p-p---md-'), ('usui', 'n-s---md-'), ('ad', 'r--------'), ('bellum', 'n-s---na-'), ('gerendum', 'v-s-g-na-'), ('erant', 'v3piia---'), ('commeatu', 'n-s---mb-'), ('-que', 'c--------'), ('nostros', 'p-p---ma-'), ('prohiberent', 'v3pisa---')], [('\\nCaesar', 'n-s---mn-'), ('honoris', 'n-s---mg-'), ('Diviciaci', 'n-s---mg-'), ('atque', 'c--------'), ('Haeduorum', 'n-p---mg-'), ('causa', 'n-s---fb-'), ('sese', 'p-s---ma-'), ('eos', 'p-p---ma-'), ('in', 'r--------'), ('fidem', 'n-s---fa-'), ('recepturum', 'v-sfpama-'), ('et', 'c--------'), ('conservaturum', 'v-sfpama-'), ('dixit', 'v3sria---'), ('et', 'c--------'), ('quod', 'c--------'), ('erat', 'v3siia---'), ('civitas', 'n-s---fn-'), ('magna', 'a-s---fb-'), ('inter', 'r--------'), ('Belgas', 'n-p---ma-'), ('auctoritate', 'n-s---fb-'), ('atque', 'c--------'), ('hominum', 'n-p---mg-'), ('multitudine', 'n-s---fb-'), ('praestabat', 'v3siia---'), ('DC', 'm-p---ma-'), ('obsides', 'n-p---ma-'), ('poposcit', 'v3sria---')], [('\\nHis', 'p-p---mb-'), ('traditis', 'v-prppmb-'), ('omnibus', 'a-p---nb-'), ('-que', 'c--------'), ('armis', 'n-p---nb-'), ('ex', 'r--------'), ('oppido', 'n-s---nb-'), ('conlatis', 'v-prppnb-'), ('ab', 'r--------'), ('eo', 'p-s---mb-'), ('loco', 'n-s---mb-'), ('in', 'r--------'), ('fines', 'n-p---ma-'), ('Ambianorum', 'n-p---mg-'), ('pervenit', 'v3sria---'), ('\\nqui', 'p-p---mn-'), ('se', 'p-p---ma-'), ('sua', 'p-p---na-'), ('-que', 'c--------'), ('omnia', 'a-p---na-'), ('sine', 'r--------'), ('mora', 'n-s---fb-'), ('dediderunt', 'v3pria---')], [('\\nEorum', 'p-p---mg-'), ('fines', 'n-p---ma-'), ('Nervii', 'n-p---mn-'), ('attingebant', 'v3piia---')], [('\\nQuorum', 'p-p---mg-'), ('de', 'r--------'), ('natura', 'n-s---fb-'), ('moribus', 'n-p---mb-'), ('-que', 'c--------'), ('Caesar', 'n-s---mn-'), ('cum', 'c--------'), ('quaereret', 'v3sisa---'), ('sic', 'd--------'), ('reperiebat', 'v3siia---'), (':', 'u--------'), ('\\nnullum', 'a-s---ma-'), ('esse', 'v--pna---'), ('aditum', 'n-s---ma-'), ('ad', 'r--------'), ('eos', 'p-p---ma-'), ('mercatoribus', 'n-p---md-'), ('\\nnihil', 'n-s---n--'), ('pati', 'v--pnp---'), ('vini', 'n-s---ng-'), ('reliquarum', 'a-p---fg-'), ('-que', 'c--------'), ('rerum', 'n-p---fg-'), ('ad', 'r--------'), ('luxuriam', 'n-s---fa-'), ('pertinentium', 'v-pppafg-'), ('inferri', 'v--pnp---'), ('quod', 'c--------'), ('his', 'p-p---fb-'), ('rebus', 'n-p---fb-'), ('relanguescere', 'v--pna---'), ('animos', 'n-p---ma-'), ('eorum', 'p-p---mg-'), ('et', 'c--------'), ('remitti', 'v--pnp---'), ('virtutem', 'n-s---fa-'), ('existimarent', 'v3pisa---'), ('\\nesse', 'v--pna---'), ('homines', 'n-p---ma-'), ('feros', 'a-p---ma-'), ('magnae', 'a-s---fg-'), ('-que', 'c--------'), ('virtutis', 'n-s---fg-'), ('\\nincrepitare', 'v--pna---'), ('atque', 'c--------'), ('incusare', 'v--pna---'), ('reliquos', 'a-p---ma-'), ('Belgas', 'n-p---ma-'), ('qui', 'p-p---mn-'), ('se', 'p-p---ma-'), ('populo', 'n-s---md-'), ('Romano', 'a-s---md-'), ('dedidissent', 'v3plsa---'), ('patriam', 'a-s---fa-'), ('-que', 'c--------'), ('virtutem', 'n-s---fa-'), ('proiecissent', 'v3plsa---'), ('\\nconfirmare', 'v--pna---'), ('sese', 'p-p---ma-'), ('neque', 'c--------'), ('legatos', 'n-p---ma-'), ('missuros', 'v-pfpama-'), ('neque', 'c--------'), ('ullam', 'a-s---fa-'), ('condicionem', 'n-s---fa-'), ('pacis', 'n-s---fg-'), ('accepturos', 'v-pfpama-')], [('\\nCum', 'c--------'), ('per', 'r--------'), ('eorum', 'p-p---mg-'), ('fines', 'n-p---ma-'), ('triduum', 'n-s---na-'), ('iter', 'n-s---na-'), ('fecisset', 'v3slsa---'), ('inveniebat', 'v3siia---'), ('ex', 'r--------'), ('captivis', 'n-p---mb-'), ('Sabim', 'n-s---ma-'), ('flumen', 'n-s---na-'), ('a', 'r--------'), ('castris', 'n-p---nb-'), ('suis', 'p-p---nb-'), ('non', 'd--------'), ('amplius', 'd-------c'), ('milibus', 'm-p---nb-'), ('passuum', 'n-p---mg-'), ('X', 'm-_---__-'), ('abesse', 'v--pna---'), ('\\ntrans', 'r--------'), ('id', 'p-s---na-'), ('flumen', 'n-s---na-'), ('omnes', 'a-p---ma-'), ('Nervios', 'n-p---ma-'), ('consedisse', 'v--rna---'), ('adventum', 'n-s---ma-'), ('-que', 'c--------'), ('ibi', 'd--------'), ('Romanorum', 'a-p---mg_'), ('expectare', 'v--pna---'), ('una', 'd--------'), ('cum', 'r--------'), ('Atrebatibus', 'n-p---mb-'), ('et', 'c--------'), ('Viromanduis', 'n-p---mb-'), ('finitimis', 'a-p---mb-'), ('suis', 'p-p---mb-'), ('(', 'u--------'), ('nam', 'c--------'), ('his', 'p-p---md-'), ('utrisque', 'p-p---md-'), ('persuaserant', 'v3plia---'), ('uti', 'c--------'), ('eandem', 'p-s---fa-'), ('belli', 'n-s---ng-'), ('fortunam', 'n-s---fa-'), ('experirentur', 'v3pisd---'), (')', 'u--------'), ('\\nexpectari', 'v--pnp---'), ('etiam', 'd--------'), ('ab', 'r--------'), ('iis', 'p-p---mb-'), ('Atuatucorum', 'n-p---mg-'), ('copias', 'n-p---fa-'), ('atque', 'c--------'), ('esse', 'v--pna---'), ('in', 'r--------'), ('itinere', 'n-s---nb-'), ('\\nmulieres', 'n-p---fa-'), ('qui', 'p-p---mn-'), ('-que', 'c--------'), ('per', 'r--------'), ('aetatem', 'n-s---fa-'), ('ad', 'r--------'), ('pugnam', 'n-s---fa-'), ('inutiles', 'a-p---mn-'), ('viderentur', 'v3pisp---'), ('in', 'r--------'), ('eum', 'p-s---ma-'), ('locum', 'n-s---ma-'), ('coniecisse', 'v--rna---'), ('quo', 'd--------'), ('propter', 'r--------'), ('paludes', 'n-p---fa-'), ('exercitui', 'n-s---md-'), ('aditus', 'n-s---mn-'), ('non', 'd--------'), ('esset', 'v3sisa---')], [('\\nLoci', 'n-s---mg-'), ('natura', 'n-s---fn-'), ('erat', 'v3siia---'), ('haec', 'p-s---fn-'), ('quem', 'p-s---ma-'), ('locum', 'n-s---ma-'), ('nostri', 'p-p---mn-'), ('castris', 'n-p---nd-'), ('delegerant', 'v3plia---')], [('\\nCollis', 'n-s---mn-'), ('ab', 'r--------'), ('summo', 'a-s---nbs'), ('aequaliter', 'd--------'), ('declivis', 'a-s---mn-'), ('ad', 'r--------'), ('flumen', 'n-s---na-'), ('Sabim', 'n-s---ma-'), ('quod', 'p-s---na-'), ('supra', 'd--------'), ('nominavimus', 'v1pria---'), ('vergebat', 'v3siia---')], [('\\nAb', 'r--------'), ('eo', 'p-s---nb-'), ('flumine', 'n-s---nb-'), ('pari', 'a-s---fb-'), ('acclivitate', 'n-s---fb-'), ('collis', 'n-s---mn-'), ('nascebatur', 'v3siid---'), ('adversus', 'v-srppmn-'), ('huic', 'p-s---md-'), ('et', 'c--------'), ('contrarius', 'a-s---mn-'), ('passus', 'n-p---ma-'), ('circiter', 'd--------'), ('CC', 'm-_---__-'), ('infimus', 'd--------'), ('apertus', 'v-srppmn-'), ('ab', 'r--------'), ('superiore', 'a-s---fbc'), ('parte', 'n-s---fb-'), ('silvestris', 'a-s---mn-'), ('ut', 'c--------'), ('non', 'd--------'), ('facile', 'd--------'), ('introrsus', 'd--------'), ('perspici', 'v--pnp---'), ('posset', 'v3sisa---')], [('\\nIntra', 'r--------'), ('eas', 'p-p---fa-'), ('silvas', 'n-p---fa-'), ('hostes', 'n-p---mn-'), ('in', 'r--------'), ('occulto', 'v-srppnb-'), ('sese', 'p-p---ma-'), ('continebant', 'v3piia---'), ('\\nin', 'r--------'), ('aperto', 'v-srppmb-'), ('loco', 'n-s---mb-'), ('secundum', 'r--------'), ('flumen', 'n-s---na-'), ('paucae', 'a-p---fn-'), ('stationes', 'n-p---fn-'), ('equitum', 'n-p---mg-'), ('videbantur', 'v3piip---')], [('\\nFluminis', 'n-s---ng-'), ('erat', 'v3siia---'), ('altitudo', 'n-s---fn-'), ('pedum', 'n-p---mg-'), ('circiter', 'd--------'), ('trium', 'm-p---mg-')], [('\\nCaesar', 'n-s---mn-'), ('equitatu', 'n-s---mb-'), ('praemisso', 'v-srppmb-'), ('subsequebatur', 'v3siid---'), ('omnibus', 'a-p---fb-'), ('copiis', 'n-p---fb-'), ('\\nsed', 'c--------'), ('ratio', 'n-s---fn-'), ('ordo', 'n-s---mn-'), ('-que', 'c--------'), ('agminis', 'n-s---ng-'), ('aliter', 'd-------_'), ('se', 'p-s---ma-'), ('habebat', 'v3siia---'), ('ac', 'c--------'), ('Belgae', 'n-p---mn-'), ('ad', 'r--------'), ('Nervios', 'n-p---ma-'), ('detulerant', 'v3plia---')], [('\\nNam', 'c--------'), ('quod', 'c--------'), ('hostibus', 'n-p---md-'), ('adpropinquabat', 'v3siia---'), ('consuetudine', 'n-s---fb-'), ('sua', 'p-s---fb-'), ('Caesar', 'n-s---mn-'), ('VI', 'm-_---__-'), ('legiones', 'n-p---fa-'), ('expeditas', 'v-prppfa-'), ('ducebat', 'v3siia---'), ('\\npost', 'r--------'), ('eas', 'p-p---fa-'), ('totius', 'a-s---mg-'), ('exercitus', 'n-s---mg-'), ('impedimenta', 'n-p---na-'), ('conlocarat', 'v3slia---'), ('\\ninde', 'd--------'), ('duae', 'm-p---fn-'), ('legiones', 'n-p---fn-'), ('quae', 'p-p---fn-'), ('proxime', 'd-------s'), ('conscriptae', 'v-prppfn-'), ('erant', 'v3piia---'), ('totum', 'a-s---na-'), ('agmen', 'n-s---na-'), ('claudebant', 'v3piia---'), ('praesidio', 'n-s---nd-'), ('-que', 'c--------'), ('impedimentis', 'n-p---nd-'), ('erant', 'v3piia---')], [('\\nEquites', 'n-p---mn-'), ('nostri', 'p-p---mn-'), ('cum', 'r--------'), ('funditoribus', 'n-p---mb-'), ('sagittariis', 'a-p---mb-'), ('-que', 'c--------'), ('flumen', 'n-s---na-'), ('transgressi', 'v-prpdmn_'), ('cum', 'r--------'), ('hostium', 'n-p---mg-'), ('equitatu', 'n-s---mb-'), ('proelium', 'n-s---na-'), ('commiserunt', 'v3pria---')], [('\\nCum', 'c--------'), ('se', 'p-p---ma-'), ('illi', 'p-p---mn-'), ('identidem', 'd--------'), ('in', 'r--------'), ('silvis', 'n-p---fb-'), ('ad', 'r--------'), ('suos', 'p-p---ma-'), ('reciperent', 'v3pisa---'), ('ac', 'c--------'), ('rursus', 'd--------'), ('ex', 'r--------'), ('silva', 'n-s---fb-'), ('in', 'r--------'), ('nostros', 'p-p---ma-'), ('impetum', 'n-s---ma-'), ('facerent', 'v3pisa---'), ('neque', 'c--------'), ('nostri', 'p-p---mn-'), ('longius', 'd-------c'), ('quam', 'd--------'), ('quem', 'p-s---ma-'), ('ad', 'r--------'), ('finem', 'n-s---ma-'), ('porrecta', 'v-prppnn-'), ('loca', 'n-p---nn-'), ('aperta', 'v-prppnn-'), ('pertinebant', 'v3piia---'), ('cedentes', 'v-ppp-ma-'), ('insequi', 'v--pnd---'), ('auderent', 'v3pisa---'), ('interim', 'd--------'), ('legiones', 'n-p---fn-'), ('VI', 'm-_---__-'), ('quae', 'p-p---fn-'), ('primae', 'm-p---fn-'), ('venerant', 'v3plia---'), ('opere', 'n-s---nb-'), ('dimenso', 'v-srpdnb_'), ('castra', 'n-p---na-'), ('munire', 'v--pna---'), ('coeperunt', 'v3pria---')], [('\\nUbi', 'd--------'), ('prima', 'm-p---nn-'), ('impedimenta', 'n-p---nn-'), ('nostri', 'p-s---mg-'), ('exercitus', 'n-s---mg-'), ('ab', 'r--------'), ('iis', 'p-p---mb-'), ('qui', 'p-p---mn-'), ('in', 'r--------'), ('silvis', 'n-p---fb-'), ('abditi', 'v-prppmn-'), ('latebant', 'v3piia---'), ('visa', 'v-prp-nn-'), ('sunt', 'v3ppia---'), ('quod', 'c--------'), ('tempus', 'n-s---nn-'), ('inter', 'r--------'), ('eos', 'p-p---ma-'), ('committendi', 'v-s-g-ng-'), ('proelii', 'n-s---ng-'), ('convenerat', 'v3slia---'), ('ut', 'c--------'), ('intra', 'r--------'), ('silvas', 'n-p---fa-'), ('aciem', 'n-s---fa-'), ('ordines', 'n-p---ma-'), ('-que', 'c--------'), ('constituerant', 'v3plia---'), ('atque', 'c--------'), ('ipsi', 'p-p---mn-'), ('sese', 'p-p---ma-'), ('confirmaverant', 'v3plia---'), ('subito', 'd-------_'), ('omnibus', 'a-p---fb-'), ('copiis', 'n-p---fb-'), ('provolaverunt', 'v3pria---'), ('impetum', 'n-s---ma-'), ('-que', 'c--------'), ('in', 'r--------'), ('nostros', 'p-p---ma-'), ('equites', 'n-p---ma-'), ('fecerunt', 'v3pria---')], [('\\nHis', 'p-p---fb-'), ('facile', 'd-------_'), ('pulsis', 'v-prppfb-'), ('ac', 'c--------'), ('proturbatis', 'v-prppfb-'), ('incredibili', 'a-s---fb-'), ('celeritate', 'n-s---fb-'), ('ad', 'r--------'), ('flumen', 'n-s---na-'), ('decucurrerunt', 'v3pria---'), ('ut', 'c--------'), ('paene', 'd--------'), ('uno', 'm-s---nb-'), ('tempore', 'n-s---nb-'), ('et', 'c--------'), ('ad', 'r--------'), ('silvas', 'n-p---fa-'), ('et', 'c--------'), ('in', 'r--------'), ('flumine', 'n-s---nb-'), ('et', 'c--------'), ('iam', 'd--------'), ('in', 'r--------'), ('manibus', 'n-p---fb-'), ('nostris', 'p-p---fb-'), ('hostes', 'n-p---mn-'), ('viderentur', 'v3pisp---')], [('\\nEadem', 'p-s---fb-'), ('autem', 'c--------'), ('celeritate', 'n-s---fb-'), ('adverso', 'v-srppmb-'), ('colle', 'n-s---mb-'), ('ad', 'r--------'), ('nostra', 'p-p---na-'), ('castra', 'n-p---na-'), ('atque', 'c--------'), ('eos', 'p-p---ma-'), ('qui', 'p-p---mn-'), ('in', 'r--------'), ('opere', 'n-s---nb-'), ('occupati', 'v-prppmn-'), ('erant', 'v3piia---'), ('contenderunt', 'v3pria---')], [('\\nSub', 'r--------'), ('vesperum', 'n-s---ma-'), ('Caesar', 'n-s---mn-'), ('portas', 'n-p---fa-'), ('claudi', 'v--pnp---'), ('milites', 'n-p---ma-'), ('-que', 'c--------'), ('ex', 'r--------'), ('oppido', 'n-s---nb-'), ('exire', 'v--pna---'), ('iussit', 'v3sria---'), ('ne', 'c--------'), ('quam', 'p-s---fa-'), ('noctu', 'n-s---fb-'), ('oppidani', 'a-p---mn-'), ('a', 'r--------'), ('militibus', 'n-p---mb-'), ('iniuriam', 'n-s---fa-'), ('acciperent', 'v3pisa---')], [('\\nIlli', 'p-p---mn-'), ('ante', 'd--------'), ('inito', 'v-srpanb-'), ('ut', 'c--------'), ('intellectum', 'v-srppnn-'), ('est', 'v3spia---'), ('consilio', 'n-s---nb-'), ('quod', 'c--------'), ('deditione', 'n-s---fb-'), ('facta', 'v-srppfb-'), ('nostros', 'p-p---ma-'), ('praesidia', 'n-p---na-'), ('deducturos', 'v-pfpama-'), ('aut', 'c--------'), ('denique', 'd--------'), ('indiligentius', 'd-------c'), ('servaturos', 'v-pfpama-'), ('crediderant', 'v3plia---'), ('partim', 'd--------'), ('cum', 'r--------'), ('iis', 'p-p---nb-'), ('quae', 'p-p---nn-'), ('retinuerant', 'v3plia---'), ('et', 'c--------'), ('celaverant', 'v3plia---'), ('armis', 'n-p---nb-'), ('partim', 'd--------'), ('scutis', 'n-p---nb-'), ('ex', 'r--------'), ('cortice', 'n-s---fb-'), ('factis', 'v-prppnb-'), ('aut', 'c--------'), ('viminibus', 'n-p---nb-'), ('intextis', 'v-prppnb-'), ('quae', 'p-p---nn-'), ('subito', 'd-------_'), ('ut', 'c--------'), ('temporis', 'n-s---ng-'), ('exiguitas', 'n-s---fn-'), ('postulabat', 'v3siia---'), ('pellibus', 'n-p---fb-'), ('induxerant', 'v3plia---'), ('tertia', 'm-s---fb-'), ('vigilia', 'n-s---fb-'), ('qua', 'p-s---fb-'), ('minime', 'd--------'), ('arduus', 'a-s---mn-'), ('ad', 'r--------'), ('nostras', 'p-p---fa-'), ('munitiones', 'n-p---fa-'), ('ascensus', 'n-s---mn-'), ('videbatur', 'v3siip---'), ('omnibus', 'a-p---fb-'), ('copiis', 'n-p---fb-'), ('repente', 'd--------'), ('ex', 'r--------'), ('oppido', 'n-s---nb-'), ('eruptionem', 'n-s---fa-'), ('fecerunt', 'v3pria---')], [('\\nCeleriter', 'd--------'), ('ut', 'c--------'), ('ante', 'd--------'), ('Caesar', 'n-s---mn-'), ('imperaverat', 'v3slia---'), ('ignibus', 'n-p---mb-'), ('significatione', 'n-s---fb-'), ('facta', 'v-srppfb-'), ('ex', 'r--------'), ('proximis', 'a-p---nbs'), ('castellis', 'n-p---nb-'), ('eo', 'd--------'), ('concursum', 'v-srppnn-'), ('est', 'v3spia---'), ('pugnatum', 'v-srppnn-'), ('-que', 'c--------'), ('ab', 'r--------'), ('hostibus', 'n-p---mb-'), ('ita', 'd--------'), ('acriter', 'd-------_'), ('est', 'v3spia---'), ('ut', 'c--------'), ('a', 'r--------'), ('viris', 'n-p---mb-'), ('fortibus', 'a-p---mb-'), ('in', 'r--------'), ('extrema', 'a-s---fbs'), ('spe', 'n-s---fb-'), ('salutis', 'n-s---fg-'), ('iniquo', 'a-s---mb-'), ('loco', 'n-s---mb-'), ('contra', 'r--------'), ('eos', 'p-p---ma-'), ('qui', 'p-p---mn-'), ('ex', 'r--------'), ('vallo', 'n-s---nb-'), ('turribus', 'n-p---fb-'), ('-que', 'c--------'), ('tela', 'n-p---na-'), ('iacerent', 'v3pisa---'), ('pugnari', 'v--pnp---'), ('debuit', 'v3sria---'), ('cum', 'c--------'), ('in', 'r--------'), ('una', 'm-s---fb-'), ('virtute', 'n-s---fb-'), ('omnis', 'a-s---fn-'), ('spes', 'n-s---fn-'), ('consisteret', 'v3sisa---')], [('\\nOccisis', 'v-prppnb-'), ('ad', 'd--------'), ('hominum', 'n-p---mg-'), ('milibus', 'm-p---nb-'), ('IIII', 'm-_---__-'), ('reliqui', 'a-p---mn-'), ('in', 'r--------'), ('oppidum', 'n-s---na-'), ('reiecti', 'v-prppmn-'), ('sunt', 'v3ppia---')], [('\\nPostridie', 'd--------'), ('eius', 'p-s---mg-'), ('diei', 'n-s---mg-'), ('refractis', 'v-prppfb-'), ('portis', 'n-p---fb-'), ('cum', 'c--------'), ('iam', 'd--------'), ('defenderet', 'v3sisa---'), ('nemo', 'n-s---mn-'), ('atque', 'c--------'), ('intromissis', 'v-prppmb-'), ('militibus', 'n-p---mb-'), ('nostris', 'p-p---mb-'), ('sectionem', 'n-s---fa-'), ('eius', 'p-s---ng-'), ('oppidi', 'n-s---ng-'), ('universam', 'a-s---fa-'), ('Caesar', 'n-s---mn-'), ('vendidit', 'v3sria---')], [('\\nAb', 'r--------'), ('iis', 'p-p---mb-'), ('qui', 'p-p---mn-'), ('emerant', 'v3plia---'), ('capitum', 'n-p---ng-'), ('numerus', 'n-s---mn-'), ('ad', 'r--------'), ('eum', 'p-s---ma-'), ('relatus', 'v-srppmn-'), ('est', 'v3spia---'), ('milium', 'm-p---ng-')], [('\\nEodem', 'p-s---nb-'), ('tempore', 'n-s---nb-'), ('a', 'r--------'), ('P', 'n-s---mb-')], [('Crasso', 'n-s---mb-'), ('quem', 'p-s---ma-'), ('cum', 'r--------'), ('legione', 'n-s---fb-'), ('una', 'm-s---fb-'), ('miserat', 'v3slia---'), ('ad', 'r--------'), ('Venetos', 'n-p---ma-'), ('Venellos', 'n-p---ma-'), ('Osismos', 'n-p---ma-'), ('Coriosolitas', 'n-p---ma-'), ('Esuvios', 'n-p---ma-'), ('Aulercos', 'n-p---ma-'), ('Redones', 'n-p---ma-'), ('quae', 'p-p---fn-'), ('sunt', 'v3ppia---'), ('maritimae', 'a-p---fn-'), ('civitates', 'n-p---fn-'), ('Oceanum', 'n-s---ma-'), ('-que', 'c--------'), ('attingunt', 'v3ppia---'), ('certior', 'a-s---mnc'), ('factus', 'v-srppmn-'), ('est', 'v3spia---'), ('omnes', 'a-p---fa-'), ('eas', 'p-p---fa-'), ('civitates', 'n-p---fa-'), ('in', 'r--------'), ('dicionem', 'n-s---fa-'), ('potestatem', 'n-s---fa-'), ('-que', 'c--------'), ('populi', 'n-s---mg-'), ('Romani', 'a-s---mg-'), ('esse', 'v--pna---'), ('redactas', 'v-prppfa-')]]\n"
     ]
    }
   ],
   "source": [
    "print(word_list)"
   ]
  },
  {
   "cell_type": "code",
   "execution_count": 84,
   "metadata": {},
   "outputs": [],
   "source": [
    "def features(sentence, index):\n",
    "    \"\"\" sentence: [w1, w2, ...], index: the index of the word \"\"\"\n",
    "    return {\n",
    "        'word': sentence[index],\n",
    "        'is_first': index == 0,\n",
    "        'is_last': index == len(sentence) - 1,\n",
    "        'is_capitalized': sentence[index][0].upper() == sentence[index][0],\n",
    "        'is_all_caps': sentence[index].upper() == sentence[index],\n",
    "        'is_all_lower': sentence[index].lower() == sentence[index],\n",
    "        'prefix-1': sentence[index][0],\n",
    "        'prefix-2': sentence[index][:2],\n",
    "        'prefix-3': sentence[index][:3],\n",
    "        'suffix-1': sentence[index][-1],\n",
    "        'suffix-2': sentence[index][-2:],\n",
    "        'suffix-3': sentence[index][-3:],\n",
    "        'prev_word': '' if index == 0 else sentence[index - 1],\n",
    "        'next_word': '' if index == len(sentence) - 1 else sentence[index + 1],\n",
    "        'has_hyphen': '-' in sentence[index],\n",
    "        'is_numeric': sentence[index].isdigit(),\n",
    "        'capitals_inside': sentence[index][1:].lower() != sentence[index][1:]\n",
    "    }"
   ]
  },
  {
   "cell_type": "code",
   "execution_count": 85,
   "metadata": {},
   "outputs": [],
   "source": [
    "def untag(tagged_sentence):\n",
    "    return [w for w, t in tagged_sentence]"
   ]
  },
  {
   "cell_type": "code",
   "execution_count": null,
   "metadata": {},
   "outputs": [],
   "source": [
    "train_size = int(.75*len(word_list))\n",
    "train_sent = word_list[:train_size]\n",
    "test_sent = word_list[train_size:]\n",
    "def transform_to_dataset(tagged_sentences):\n",
    "    X, y = [], []\n",
    " \n",
    "    for tagged in tagged_sentences:\n",
    "        for index in range(len(tagged)):\n",
    "            #print(tagged)\n",
    "            X.append(features(untag(tagged), index))\n",
    "            y.append(tagged[index][1])\n",
    " \n",
    "    return X, y\n",
    " \n",
    "X, y = transform_to_dataset(train_sent)\n",
    "print(len(X))"
   ]
  },
  {
   "cell_type": "code",
   "execution_count": null,
   "metadata": {},
   "outputs": [],
   "source": [
    "from sklearn.tree import DecisionTreeClassifier\n",
    "from sklearn.feature_extraction import DictVectorizer\n",
    "from sklearn.pipeline import Pipeline\n",
    " \n",
    "clf = Pipeline([\n",
    "    ('vectorizer', DictVectorizer(sparse=False)),\n",
    "    ('classifier', DecisionTreeClassifier(criterion='entropy'))\n",
    "])\n",
    " \n",
    "clf.fit(X, y)   # Use only the first 10K samples if you're running it multiple times. It takes a fair bit :)\n",
    " \n",
    "print ('Training completed')\n",
    " \n",
    "X_test, y_test = transform_to_dataset(test_sent)\n",
    " \n",
    "print (\"Accuracy:\" + str(clf.score(X_test, y_test)))"
   ]
  },
  {
   "cell_type": "code",
   "execution_count": null,
   "metadata": {},
   "outputs": [],
   "source": []
  }
 ],
 "metadata": {
  "kernelspec": {
   "display_name": "Python 3",
   "language": "python",
   "name": "python3"
  },
  "language_info": {
   "codemirror_mode": {
    "name": "ipython",
    "version": 3
   },
   "file_extension": ".py",
   "mimetype": "text/x-python",
   "name": "python",
   "nbconvert_exporter": "python",
   "pygments_lexer": "ipython3",
   "version": "3.6.5"
  }
 },
 "nbformat": 4,
 "nbformat_minor": 2
}
