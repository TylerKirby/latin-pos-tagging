{
 "cells": [
  {
   "cell_type": "code",
   "execution_count": 3,
   "metadata": {},
   "outputs": [],
   "source": [
    "import glob\n",
    "#paths = glob.glob('./texts/*/*.txt')\n",
    "paths_perseus = glob.glob('./texts/perseus/*.txt')\n",
    "paths_proiel = glob.glob('./texts/proiel-txt/*.txt')\n",
    "paths_harrington = glob.glob('./texts/harrington-txt/*.txt')\n",
    "\n",
    "word_list_ph = []\n",
    "word_list_proiel = []"
   ]
  },
  {
   "cell_type": "code",
   "execution_count": 7,
   "metadata": {},
   "outputs": [],
   "source": [
    "def get_sentences(paths, word_list, sentence_delimiter):\n",
    "    for p in paths:\n",
    "        #sample_text_path = \"./texts/perseus/phi0448.phi001.perseus-lat1.tb.txt\"\n",
    "        file = open(p)\n",
    "        string = file.read()\n",
    "        text = string\n",
    "        file.close()\n",
    "        for i in range(10):\n",
    "            s = '[' + str(i) + ']/' \n",
    "            text = text.replace(s,'')\n",
    "        text = text.replace('?', '.')\n",
    "        text = text.replace('!', '.')\n",
    "        if sentence_delimiter != '\\n':\n",
    "            text = text.replace('\\n','')\n",
    "        text = text.replace('[0]/','')\n",
    "        text = text.replace('[1]/','')\n",
    "        sentence_list = text.split(sentence_delimiter)\n",
    "        #print(len(sentence_list))\n",
    "        strip = {'',',',';'}\n",
    "        for sent in sentence_list:\n",
    "            words = sent.split(' ')\n",
    "            tuple_list = []\n",
    "            for word in words:\n",
    "                word_tag_pair = word.split('/')\n",
    "                if (len(word_tag_pair) == 2) and (word_tag_pair[0] not in strip):\n",
    "                    tuple_list.append( (word_tag_pair[0], word_tag_pair[1]) )\n",
    "            if len(tuple_list) > 0:\n",
    "                word_list.append(tuple_list)                "
   ]
  },
  {
   "cell_type": "code",
   "execution_count": 8,
   "metadata": {},
   "outputs": [],
   "source": [
    "get_sentences(paths_perseus, word_list_ph,  '.')\n",
    "get_sentences(paths_harrington, word_list_ph, '.')\n",
    "get_sentences(paths_proiel, word_list_proiel, '\\n')"
   ]
  },
  {
   "cell_type": "code",
   "execution_count": 10,
   "metadata": {},
   "outputs": [
    {
     "name": "stdout",
     "output_type": "stream",
     "text": [
      "7524\n",
      "19425\n"
     ]
    }
   ],
   "source": [
    "print(len(word_list_ph))\n",
    "print(len(word_list_proiel))"
   ]
  },
  {
   "cell_type": "code",
   "execution_count": 12,
   "metadata": {},
   "outputs": [],
   "source": [
    "import pickle\n",
    "with open('ph_corpus', 'wb') as ph:\n",
    "    pickle.dump(word_list_ph, ph)\n",
    "\n",
    "with open('proiel_corpus', 'wb') as proiel:\n",
    "    pickle.dump(word_list_proiel, proiel)"
   ]
  },
  {
   "cell_type": "code",
   "execution_count": 6,
   "metadata": {},
   "outputs": [],
   "source": [
    "def features(sentence, index):\n",
    "    \"\"\" sentence: [w1, w2, ...], index: the index of the word \"\"\"\n",
    "    return {\n",
    "        'word': sentence[index],\n",
    "        'is_first': index == 0,\n",
    "        'is_last': index == len(sentence) - 1,\n",
    "        'is_capitalized': sentence[index][0].upper() == sentence[index][0],\n",
    "        'is_all_caps': sentence[index].upper() == sentence[index],\n",
    "        'is_all_lower': sentence[index].lower() == sentence[index],\n",
    "        'prefix-1': sentence[index][0],\n",
    "        'prefix-2': sentence[index][:2],\n",
    "        'prefix-3': sentence[index][:3],\n",
    "        'suffix-1': sentence[index][-1],\n",
    "        'suffix-2': sentence[index][-2:],\n",
    "        'suffix-3': sentence[index][-3:],\n",
    "        'prev_word': '' if index == 0 else sentence[index - 1],\n",
    "        'next_word': '' if index == len(sentence) - 1 else sentence[index + 1],\n",
    "        'has_hyphen': '-' in sentence[index],\n",
    "        'is_numeric': sentence[index].isdigit(),\n",
    "        'capitals_inside': sentence[index][1:].lower() != sentence[index][1:]\n",
    "    }"
   ]
  },
  {
   "cell_type": "code",
   "execution_count": 7,
   "metadata": {},
   "outputs": [],
   "source": [
    "def untag(tagged_sentence):\n",
    "    return [w for w, t in tagged_sentence]"
   ]
  },
  {
   "cell_type": "code",
   "execution_count": 8,
   "metadata": {},
   "outputs": [
    {
     "name": "stdout",
     "output_type": "stream",
     "text": [
      "266808\n"
     ]
    }
   ],
   "source": [
    "train_size = int(.75*len(word_list))\n",
    "train_sent = word_list[:train_size]\n",
    "test_sent = word_list[train_size:]\n",
    "def transform_to_dataset(tagged_sentences):\n",
    "    X, y = [], []\n",
    " \n",
    "    for tagged in tagged_sentences:\n",
    "        for index in range(len(tagged)):\n",
    "            #print(tagged)\n",
    "            X.append(features(untag(tagged), index))\n",
    "            y.append(tagged[index][1])\n",
    " \n",
    "    return X, y\n",
    " \n",
    "X, y = transform_to_dataset(train_sent)\n",
    "print(len(X))"
   ]
  },
  {
   "cell_type": "code",
   "execution_count": null,
   "metadata": {},
   "outputs": [],
   "source": [
    "from sklearn.tree import DecisionTreeClassifier\n",
    "from sklearn.ensemble import GradientBoostingClassifier\n",
    "from sklearn.feature_extraction import DictVectorizer\n",
    "from sklearn.pipeline import Pipeline\n",
    " \n",
    "clf = Pipeline([\n",
    "    ('vectorizer', DictVectorizer(sparse=False)),\n",
    "    ('classifier', DecisionTreeClassifier(criterion='entropy'))\n",
    "])\n",
    " \n",
    "clf.fit(X[:50000], y[:50000])   # Use only the first 10K samples if you're running it multiple times. It takes a fair bit :)\n",
    " \n",
    "print ('Training completed')\n",
    " \n",
    "X_test, y_test = transform_to_dataset(test_sent)\n",
    " \n",
    "print (\"Accuracy:\" + str(clf.score(X_test, y_test)))"
   ]
  },
  {
   "cell_type": "code",
   "execution_count": null,
   "metadata": {},
   "outputs": [],
   "source": []
  }
 ],
 "metadata": {
  "kernelspec": {
   "display_name": "Python 3",
   "language": "python",
   "name": "python3"
  },
  "language_info": {
   "codemirror_mode": {
    "name": "ipython",
    "version": 3
   },
   "file_extension": ".py",
   "mimetype": "text/x-python",
   "name": "python",
   "nbconvert_exporter": "python",
   "pygments_lexer": "ipython3",
   "version": "3.6.5"
  }
 },
 "nbformat": 4,
 "nbformat_minor": 2
}
